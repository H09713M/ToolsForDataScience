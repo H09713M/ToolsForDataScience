{
    "cells": [
        {
            "metadata": {
                "collapsed": true
            },
            "cell_type": "markdown",
            "source": "# My Jupyter Notebook on IBM Watson Studio"
        },
        {
            "metadata": {},
            "cell_type": "markdown",
            "source": "**Dennis Scoville** <br>\nChief Product Owner"
        },
        {
            "metadata": {},
            "cell_type": "markdown",
            "source": "*I am interested in data science for many reasons. Most of all, my interest lies in how data can help predict future results.*"
        },
        {
            "metadata": {},
            "cell_type": "markdown",
            "source": "### The following Python code will produce the cube root of 3"
        },
        {
            "metadata": {},
            "cell_type": "code",
            "source": "3 ** 3",
            "execution_count": 1,
            "outputs": [
                {
                    "output_type": "execute_result",
                    "execution_count": 1,
                    "data": {
                        "text/plain": "27"
                    },
                    "metadata": {}
                }
            ]
        },
        {
            "metadata": {},
            "cell_type": "markdown",
            "source": "***\n- Bullet 1\n- Bullet 2\n- Bullet 3\n***\n1. Item 1\n1. Item 2\n1. Item 3\n***"
        }
    ],
    "metadata": {
        "kernelspec": {
            "name": "python3",
            "display_name": "Python 3.7",
            "language": "python"
        },
        "language_info": {
            "name": "python",
            "version": "3.7.9",
            "mimetype": "text/x-python",
            "codemirror_mode": {
                "name": "ipython",
                "version": 3
            },
            "pygments_lexer": "ipython3",
            "nbconvert_exporter": "python",
            "file_extension": ".py"
        }
    },
    "nbformat": 4,
    "nbformat_minor": 1
}